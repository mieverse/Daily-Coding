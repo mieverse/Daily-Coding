{
  "nbformat": 4,
  "nbformat_minor": 0,
  "metadata": {
    "colab": {
      "provenance": []
    },
    "kernelspec": {
      "name": "python3",
      "display_name": "Python 3"
    },
    "language_info": {
      "name": "python"
    }
  },
  "cells": [
    {
      "cell_type": "code",
      "execution_count": null,
      "metadata": {
        "colab": {
          "base_uri": "https://localhost:8080/"
        },
        "id": "8CBNT-_OlQ9Y",
        "outputId": "6b43afc7-e733-4adb-9e36-8cea4cf0759a"
      },
      "outputs": [
        {
          "output_type": "execute_result",
          "data": {
            "text/plain": [
              "False"
            ]
          },
          "metadata": {},
          "execution_count": 5
        }
      ],
      "source": [
        "# 1\n",
        "\n",
        "def result(lis, k):\n",
        "  p = 0\n",
        "  q = len(lis)  #4\n",
        "  for i in range(0,q):\n",
        "    p=i+1\n",
        "    while p <= (q-1): #3\n",
        "      sum = lis[i] + lis[p]\n",
        "      p+=1\n",
        "      if sum == k:\n",
        "        return True\n",
        "      else:\n",
        "        return False\n",
        "\n",
        "a = [10, 15, 3, 7]\n",
        "b = 16\n",
        "result(a,b)"
      ]
    },
    {
      "cell_type": "code",
      "source": [
        "# 2\n",
        "\n",
        "def product(arr):\n",
        "  new = [0]*len(arr)\n",
        "  p = 1\n",
        "  for i in range(0, len(arr)):\n",
        "    while\n",
        "    p = p*i\n",
        "    new += [p]\n",
        "  return\n",
        "\n",
        "\n",
        "\n",
        "\n",
        "a = [1, 2, 3, 4, 5]\n",
        "product(a)"
      ],
      "metadata": {
        "id": "y73z99VlqLCM"
      },
      "execution_count": null,
      "outputs": []
    }
  ]
}