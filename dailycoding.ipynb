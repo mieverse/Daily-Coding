{
  "nbformat": 4,
  "nbformat_minor": 0,
  "metadata": {
    "colab": {
      "provenance": [],
      "authorship_tag": "ABX9TyNf+5hG4fofxLU1P1OVed2K",
      "include_colab_link": true
    },
    "kernelspec": {
      "name": "python3",
      "display_name": "Python 3"
    },
    "language_info": {
      "name": "python"
    }
  },
  "cells": [
    {
      "cell_type": "markdown",
      "metadata": {
        "id": "view-in-github",
        "colab_type": "text"
      },
      "source": [
        "<a href=\"https://colab.research.google.com/github/mieverse/Daily-Coding/blob/main/dailycoding.ipynb\" target=\"_parent\"><img src=\"https://colab.research.google.com/assets/colab-badge.svg\" alt=\"Open In Colab\"/></a>"
      ]
    },
    {
      "cell_type": "markdown",
      "source": [
        "**1.**"
      ],
      "metadata": {
        "id": "pCTglPkuRqRp"
      }
    },
    {
      "cell_type": "code",
      "execution_count": null,
      "metadata": {
        "colab": {
          "base_uri": "https://localhost:8080/"
        },
        "id": "8CBNT-_OlQ9Y",
        "outputId": "6b43afc7-e733-4adb-9e36-8cea4cf0759a"
      },
      "outputs": [
        {
          "output_type": "execute_result",
          "data": {
            "text/plain": [
              "False"
            ]
          },
          "metadata": {},
          "execution_count": 5
        }
      ],
      "source": [
        "# 1\n",
        "\n",
        "def result(lis, k):\n",
        "  p = 0\n",
        "  q = len(lis)  #4\n",
        "  for i in range(0,q):\n",
        "    p=i+1\n",
        "    while p <= (q-1): #3\n",
        "      sum = lis[i] + lis[p]\n",
        "      p+=1\n",
        "      if sum == k:\n",
        "        return True\n",
        "      else:\n",
        "        return False\n",
        "\n",
        "a = [10, 15, 3, 7]\n",
        "b = 16\n",
        "result(a,b)"
      ]
    },
    {
      "cell_type": "markdown",
      "source": [
        "**2.**"
      ],
      "metadata": {
        "id": "eOfG3rEORxtY"
      }
    },
    {
      "cell_type": "code",
      "source": [
        "# 2\n",
        "\n",
        "def product(arr):\n",
        "  new = [0]*len(arr)\n",
        "  p = 1\n",
        "  for i in range(0, len(arr)):\n",
        "    while\n",
        "    p = p*i\n",
        "    new += [p]\n",
        "  return\n",
        "\n",
        "\n",
        "\n",
        "\n",
        "a = [1, 2, 3, 4, 5]\n",
        "product(a)"
      ],
      "metadata": {
        "id": "y73z99VlqLCM"
      },
      "execution_count": null,
      "outputs": []
    },
    {
      "cell_type": "markdown",
      "source": [
        "**3.**"
      ],
      "metadata": {
        "id": "jnWky1gJR1_B"
      }
    },
    {
      "cell_type": "code",
      "source": [
        "# for later"
      ],
      "metadata": {
        "id": "tMoB15SikIt0"
      },
      "execution_count": null,
      "outputs": []
    },
    {
      "cell_type": "markdown",
      "source": [
        "**11.**"
      ],
      "metadata": {
        "id": "uUwOEyJgIuRX"
      }
    },
    {
      "cell_type": "code",
      "source": [
        "def prefix(lis, qstr):\n",
        "  new=[]\n",
        "\n",
        "  for i in lis:\n",
        "      temp=i[0:2]\n",
        "      if temp==qstr:\n",
        "        # new+=[temp] # wrong\n",
        "        new+=[i]\n",
        "\n",
        "  return new\n",
        "\n",
        "lis= ['dog', 'deer', 'deal']\n",
        "qstr= 'de'\n",
        "prefix(lis, qstr)"
      ],
      "metadata": {
        "colab": {
          "base_uri": "https://localhost:8080/"
        },
        "id": "ni7-MiYoIxR5",
        "outputId": "d52ea71f-5b18-44e6-8f6c-52c7ccd50073"
      },
      "execution_count": null,
      "outputs": [
        {
          "output_type": "execute_result",
          "data": {
            "text/plain": [
              "['deer', 'deal']"
            ]
          },
          "metadata": {},
          "execution_count": 7
        }
      ]
    },
    {
      "cell_type": "code",
      "source": [
        "a= 'lotus'\n",
        "print(a[0:3])"
      ],
      "metadata": {
        "colab": {
          "base_uri": "https://localhost:8080/"
        },
        "id": "ChJWf_0rLSvl",
        "outputId": "05575141-1f9d-42fd-8843-e9e0613a87e8"
      },
      "execution_count": null,
      "outputs": [
        {
          "output_type": "stream",
          "name": "stdout",
          "text": [
            "lot\n"
          ]
        }
      ]
    },
    {
      "cell_type": "markdown",
      "source": [
        "**12.**"
      ],
      "metadata": {
        "id": "Ubs3AVJ5Ff8f"
      }
    },
    {
      "cell_type": "code",
      "source": [
        "# arrange - combinations\n",
        "\n",
        "def provide(a):\n",
        "  a1=0\n",
        "  a2=0\n",
        "  n= len(a)\n",
        "\n",
        "  for i in a:\n",
        "    if i==1:\n",
        "      a1+=1\n",
        "    elif i==2:\n",
        "      a2+=1\n",
        "\n",
        "  # combform= n!/a1!*a2! but factorial how?? gawd!\n",
        "\n",
        "\n",
        "\n",
        "lis = [1, 1, 2, 2] # assuming only 1 and 2 will be given\n",
        "provide(lis)"
      ],
      "metadata": {
        "id": "0h6BeiGJFiwK"
      },
      "execution_count": null,
      "outputs": []
    },
    {
      "cell_type": "markdown",
      "source": [
        "**13.**"
      ],
      "metadata": {
        "id": "AgcE48IQGZ7A"
      }
    },
    {
      "cell_type": "code",
      "source": [
        "a= 'abcba'\n",
        "new=[]\n",
        "for i in a:\n",
        "  if i not in new:\n",
        "    new+=[i]\n",
        "print(new)"
      ],
      "metadata": {
        "colab": {
          "base_uri": "https://localhost:8080/"
        },
        "id": "kLBtSPwqGbRw",
        "outputId": "1f9d6b3c-9de9-4e67-bbf9-4dd1fa624c33"
      },
      "execution_count": null,
      "outputs": [
        {
          "output_type": "stream",
          "name": "stdout",
          "text": [
            "['a', 'b', 'c']\n"
          ]
        }
      ]
    },
    {
      "cell_type": "code",
      "source": [
        "k=2\n",
        "newstr=''\n",
        "c1=0\n",
        "c2=0\n",
        "for i in a:\n",
        "  pass"
      ],
      "metadata": {
        "id": "r3IIQP_4GzIf"
      },
      "execution_count": null,
      "outputs": []
    }
  ]
}